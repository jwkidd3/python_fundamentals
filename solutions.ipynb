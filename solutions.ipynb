{
 "cells": [
  {
   "cell_type": "code",
   "execution_count": null,
   "metadata": {},
   "outputs": [],
   "source": [
    "import this"
   ]
  },
  {
   "cell_type": "code",
   "execution_count": null,
   "metadata": {},
   "outputs": [],
   "source": [
    "print(\"Hello World\")"
   ]
  },
  {
   "cell_type": "code",
   "execution_count": null,
   "metadata": {},
   "outputs": [],
   "source": [
    "x = 3.14159\n",
    "y = 24.4\n",
    "print(y)\n",
    "print(x)\n",
    "x=\"This is a String\"\n",
    "print(x)\n",
    "print(x + \"500\")"
   ]
  },
  {
   "cell_type": "code",
   "execution_count": null,
   "metadata": {},
   "outputs": [],
   "source": [
    "str(false)"
   ]
  },
  {
   "cell_type": "code",
   "execution_count": null,
   "metadata": {},
   "outputs": [],
   "source": [
    "z=''\n",
    "quot = 0\n",
    "rem = 0\n",
    "for nbr in range(2, 26):\n",
    "    for nbr_divide in range(2,nbr):\n",
    "        quot, rem = divmod(nbr, nbr_divide)\n",
    "        z = 'prime'\n",
    "        if rem == 0:\n",
    "            z = 'not prime'\n",
    "            break\n",
    "    if z == 'not prime':\n",
    "        print(nbr , ' equals ', nbr_divide, ' * ' , quot)\n",
    "    elif z != 'not prime':\n",
    "        print(nbr, ' is a prime number')\n",
    "    else:\n",
    "        print('idk')"
   ]
  },
  {
   "cell_type": "code",
   "execution_count": null,
   "metadata": {},
   "outputs": [],
   "source": [
    "name = str(input('Enter your name: '))\n",
    "print('You entered', name)\n",
    "for letter in name:\n",
    "    print(letter * 2)"
   ]
  },
  {
   "cell_type": "code",
   "execution_count": null,
   "metadata": {},
   "outputs": [],
   "source": [
    "target = str(input('Enter your String: '))\n",
    "stride=int(input('Enter your Stride (>1): '))\n",
    "\n",
    "i=1\n",
    "lower=False\n",
    "for letter in target:\n",
    "    if(lower):\n",
    "        print(letter,end='')\n",
    "    else:\n",
    "        print(letter.upper(),end='')\n",
    "        \n",
    "    if(i == stride):\n",
    "        i=1\n",
    "        if(lower):\n",
    "            lower=False\n",
    "        else:\n",
    "            lower=True\n",
    "        continue\n",
    "    \n",
    "    i=i+1\n",
    "    "
   ]
  },
  {
   "cell_type": "code",
   "execution_count": null,
   "metadata": {},
   "outputs": [],
   "source": [
    "s1 = str(input('Enter your String1: '))\n",
    "s2 = str(input('Enter your String2: '))\n",
    "if(s1.endswith(s2) | s2.endswith(s1)):\n",
    "    print(\"YES\")\n",
    "else:\n",
    "    print(\"NO\")"
   ]
  },
  {
   "cell_type": "code",
   "execution_count": null,
   "metadata": {},
   "outputs": [],
   "source": [
    "l1=[]\n",
    "l2=[]\n",
    "\n",
    "print(30 * \"-\", \"LIST MENU\", 30 * \"-\")\n",
    "print(\"1. Add to List\")\n",
    "print(\"2. Remove from List by Value\")\n",
    "print(\"3. Remove from List by Index\")  \n",
    "print(\"4. Print Lists\")\n",
    "print(\"5. Exit from the script \")\n",
    "print(73 * \"-\")\n",
    "\n",
    "while True:\n",
    "    op=int(input('Enter your Op: '))\n",
    "    if op==1:\n",
    "        t=int(input('Which List? (1 or 2):'))\n",
    "        print(t)\n",
    "        val=str(input('Value?: '))\n",
    "        if t == 1 :\n",
    "            l1.append(val)\n",
    "        else:\n",
    "            l2.append(val)\n",
    "    if op==2:\n",
    "        t=int(input('Which List? (1 or 2): '))\n",
    "        val=str(input('Value?: '))\n",
    "        if t == 1 :\n",
    "            l1.remove(val)\n",
    "        else:\n",
    "            l2.remove(val)\n",
    "    if op==3 :\n",
    "        t=int(input('Which List? (1 or 2): '))\n",
    "        val=int(input('Index?: '))\n",
    "        if t == 1 :\n",
    "            del l1[val]\n",
    "        else:\n",
    "            del l2[val]\n",
    "    if op==4:\n",
    "        t=int(input('Which List? (1 or 2): '))\n",
    "        val=str(input('Value?: '))\n",
    "        if t == 1 :\n",
    "            l1.append(val)\n",
    "        else:\n",
    "            l2.append(val)\n",
    "    if op==5:\n",
    "        break\n",
    "    print(\"L1: \",l1)\n",
    "    print(\"L2: \",l2)\n",
    "\n"
   ]
  },
  {
   "cell_type": "code",
   "execution_count": null,
   "metadata": {},
   "outputs": [],
   "source": [
    "mylist=[\"apple\",\"apple\",\"pear\",\"apple\",\"grape\",\"pear\",\"bannana\",\"pear\"]\n",
    "newlist=[]\n",
    "for item in mylist:\n",
    "    if item not in newlist:\n",
    "        newlist.append(item)\n",
    "print(newlist)"
   ]
  },
  {
   "cell_type": "code",
   "execution_count": null,
   "metadata": {},
   "outputs": [],
   "source": [
    "mylist=[]\n",
    "\n",
    "while True:\n",
    "    print(mylist)\n",
    "    val=str(input('Enter your String: '))\n",
    "    if val.lower()=='quit':\n",
    "        break\n",
    "    if val == '-':\n",
    "        print(\"reverse\")\n",
    "        mylist=mylist[::-1]\n",
    "        continue\n",
    "    if val.startswith('-'):\n",
    "        print(\"remove\")\n",
    "        mylist.remove(val[1:])\n",
    "        continue\n",
    "    mylist.append(val)\n",
    "    \n"
   ]
  },
  {
   "cell_type": "code",
   "execution_count": null,
   "metadata": {},
   "outputs": [],
   "source": [
    "colors = ['black', 'white']\n",
    "sizes = ['S', 'M', 'L']\n",
    "sleeves=['Short','Long']\n",
    "tshirts = [[color, size, sleeve] for color in colors\n",
    "                         for size in sizes for sleeve in sleeves]\n",
    "\n",
    "tshirts"
   ]
  },
  {
   "cell_type": "code",
   "execution_count": null,
   "metadata": {},
   "outputs": [],
   "source": [
    "newlist = [x**2 for x in range(25)]\n",
    "newlist"
   ]
  },
  {
   "cell_type": "code",
   "execution_count": null,
   "metadata": {},
   "outputs": [],
   "source": [
    "mylist=['blueberry','bannana','grape','pear','apple']\n",
    "tuplelist=[(len(word),word)  for word in mylist]\n",
    "tuplelist.sort()\n",
    "print(tuplelist)\n",
    "sortedlist=[item[1] for item in tuplelist]\n",
    "sortedlist"
   ]
  },
  {
   "cell_type": "code",
   "execution_count": null,
   "metadata": {},
   "outputs": [],
   "source": [
    "res=0\n",
    "rom={'M': 1000, 'D':500, 'C': 100, 'L': 50, 'X': 10, 'V':5, 'I': 1}\n",
    "item=input(\"Enter Roman: \").upper()\n",
    "for n in item:\n",
    "    res=res+rom.get(n)\n",
    "res"
   ]
  },
  {
   "cell_type": "code",
   "execution_count": null,
   "metadata": {},
   "outputs": [],
   "source": [
    "i=\"there is no there there\".lower()\n",
    "s=sorted(set(i.split()))\n",
    "s"
   ]
  },
  {
   "cell_type": "code",
   "execution_count": null,
   "metadata": {},
   "outputs": [],
   "source": [
    "data=''\n",
    "val=str(input('Enter your FileName: '))\n",
    "f=open(val, 'r')\n",
    "data = f.readlines()\n",
    "f.close()\n",
    "data=data[::-1]\n",
    "with open('/tmp/file2.txt', 'w') as f:\n",
    "    for item in data:\n",
    "        f.write(item)\n",
    "    f.close()\n",
    "    \n",
    "print(\"Done!\")"
   ]
  },
  {
   "cell_type": "code",
   "execution_count": null,
   "metadata": {},
   "outputs": [],
   "source": [
    "\n",
    "text = open(\"/Users/jwkidd3/python_fundamentals/hamlet.txt\", \"r\")\n",
    "\n",
    "d = dict()\n",
    "\n",
    "for line in text:\n",
    "    line = line.strip()\n",
    "    line = line.lower()\n",
    "\n",
    "    words = line.split(\" \")\n",
    "\n",
    "    for word in words:\n",
    "        word=word.strip().replace(\".\",'')\n",
    "        if word=='' or word==\"|\" or len(word)<2 :\n",
    "            continue\n",
    "        if word in d:\n",
    "            d[word] = d[word] + 1\n",
    "        else:\n",
    "            d[word] = 1\n",
    "\n",
    "for key in list(d.keys()):\n",
    "    print(key, \":\", d[key])\n"
   ]
  },
  {
   "cell_type": "code",
   "execution_count": 37,
   "metadata": {},
   "outputs": [],
   "source": [
    "import math\n",
    "\n",
    "def calculate(x,y,op,**kwargs):\n",
    "    res=0\n",
    "    if op ==  '+':\n",
    "            res= x+y\n",
    "    elif op ==  '/':\n",
    "        try:\n",
    "            res= x/y\n",
    "        except ZeroDivisionError:\n",
    "            return \"Cannot divide by 0\"\n",
    "    elif op ==  '*':\n",
    "            res= x*y\n",
    "    elif op ==  '%':\n",
    "            res= x%y\n",
    "    elif op == 'log':\n",
    "        try:\n",
    "            res=math.log(x,y)\n",
    "        except:\n",
    "            return \"Math.Log error\"\n",
    "        else:\n",
    "            print(\"more processing...\")\n",
    "    else:\n",
    "        return 'no valid op'\n",
    "    \n",
    "    if(kwargs['isfloat']):\n",
    "        return float(res)\n",
    "    else:\n",
    "        return res\n",
    "        \n",
    "def sumdigits(nums):\n",
    "    res=0\n",
    "    newres=0\n",
    "    for item in str(nums):\n",
    "        res += int(item)\n",
    "    if( len(str(res>1))):\n",
    "        for item in str(res):\n",
    "            newres += int(item)\n",
    "        res=newres\n",
    "    return res\n",
    "def add_commas(item):\n",
    "    return f'{item:,}'\n",
    "def collatz(num):\n",
    "    while num!=1:\n",
    "        if num %2==0:\n",
    "            num=num//2\n",
    "        else:\n",
    "            num=num*3+1\n",
    "        print(num)\n",
    "        \n",
    "def product(*args):\n",
    "    res=0\n",
    "    if len(args)<1:\n",
    "        return 1\n",
    "    for arg in args:\n",
    "        res=res+arg\n",
    "    return res"
   ]
  },
  {
   "cell_type": "code",
   "execution_count": 38,
   "metadata": {},
   "outputs": [
    {
     "name": "stdout",
     "output_type": "stream",
     "text": [
      "more processing...\n"
     ]
    },
    {
     "data": {
      "text/plain": [
       "1.3562071871080221"
      ]
     },
     "execution_count": 38,
     "metadata": {},
     "output_type": "execute_result"
    }
   ],
   "source": [
    "calculate(14,7,'log',isfloat=True)"
   ]
  },
  {
   "cell_type": "code",
   "execution_count": 39,
   "metadata": {},
   "outputs": [
    {
     "name": "stdout",
     "output_type": "stream",
     "text": [
      "arg 0 is /opt/anaconda3/lib/python3.8/site-packages/ipykernel_launcher.pyo\n",
      "arg 1 is -fo\n",
      "arg 2 is /Users/jwkidd3/Library/Jupyter/runtime/kernel-42908c0e-a311-47f5-98a7-46b88de85a4c.jsono\n"
     ]
    }
   ],
   "source": []
  },
  {
   "cell_type": "code",
   "execution_count": null,
   "metadata": {},
   "outputs": [],
   "source": []
  }
 ],
 "metadata": {
  "kernelspec": {
   "display_name": "Python 3",
   "language": "python",
   "name": "python3"
  },
  "language_info": {
   "codemirror_mode": {
    "name": "ipython",
    "version": 3
   },
   "file_extension": ".py",
   "mimetype": "text/x-python",
   "name": "python",
   "nbconvert_exporter": "python",
   "pygments_lexer": "ipython3",
   "version": "3.8.5"
  }
 },
 "nbformat": 4,
 "nbformat_minor": 4
}
