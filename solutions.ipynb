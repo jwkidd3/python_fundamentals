{
 "cells": [
  {
   "cell_type": "code",
   "execution_count": 1,
   "metadata": {},
   "outputs": [
    {
     "name": "stdout",
     "output_type": "stream",
     "text": [
      "The Zen of Python, by Tim Peters\n",
      "\n",
      "Beautiful is better than ugly.\n",
      "Explicit is better than implicit.\n",
      "Simple is better than complex.\n",
      "Complex is better than complicated.\n",
      "Flat is better than nested.\n",
      "Sparse is better than dense.\n",
      "Readability counts.\n",
      "Special cases aren't special enough to break the rules.\n",
      "Although practicality beats purity.\n",
      "Errors should never pass silently.\n",
      "Unless explicitly silenced.\n",
      "In the face of ambiguity, refuse the temptation to guess.\n",
      "There should be one-- and preferably only one --obvious way to do it.\n",
      "Although that way may not be obvious at first unless you're Dutch.\n",
      "Now is better than never.\n",
      "Although never is often better than *right* now.\n",
      "If the implementation is hard to explain, it's a bad idea.\n",
      "If the implementation is easy to explain, it may be a good idea.\n",
      "Namespaces are one honking great idea -- let's do more of those!\n"
     ]
    }
   ],
   "source": [
    "import this"
   ]
  },
  {
   "cell_type": "code",
   "execution_count": 2,
   "metadata": {},
   "outputs": [
    {
     "name": "stdout",
     "output_type": "stream",
     "text": [
      "Hello World\n"
     ]
    }
   ],
   "source": [
    "print(\"Hello World\")"
   ]
  },
  {
   "cell_type": "code",
   "execution_count": 6,
   "metadata": {},
   "outputs": [
    {
     "name": "stdout",
     "output_type": "stream",
     "text": [
      "24.4\n",
      "3.14159\n",
      "This is a String\n",
      "This is a String500\n"
     ]
    }
   ],
   "source": [
    "x = 3.14159\n",
    "y = 24.4\n",
    "print(y)\n",
    "print(x)\n",
    "x=\"This is a String\"\n",
    "print(x)\n",
    "print(x + \"500\")"
   ]
  },
  {
   "cell_type": "code",
   "execution_count": 7,
   "metadata": {},
   "outputs": [
    {
     "ename": "NameError",
     "evalue": "name 'false' is not defined",
     "output_type": "error",
     "traceback": [
      "\u001b[0;31m---------------------------------------------------------------------------\u001b[0m",
      "\u001b[0;31mNameError\u001b[0m                                 Traceback (most recent call last)",
      "\u001b[0;32m<ipython-input-7-8e57d9b5e766>\u001b[0m in \u001b[0;36m<module>\u001b[0;34m\u001b[0m\n\u001b[0;32m----> 1\u001b[0;31m \u001b[0mstr\u001b[0m\u001b[0;34m(\u001b[0m\u001b[0mfalse\u001b[0m\u001b[0;34m)\u001b[0m\u001b[0;34m\u001b[0m\u001b[0;34m\u001b[0m\u001b[0m\n\u001b[0m",
      "\u001b[0;31mNameError\u001b[0m: name 'false' is not defined"
     ]
    }
   ],
   "source": [
    "str(false)"
   ]
  },
  {
   "cell_type": "code",
   "execution_count": 26,
   "metadata": {},
   "outputs": [
    {
     "name": "stdout",
     "output_type": "stream",
     "text": [
      "2  is a prime number\n",
      "3  is a prime number\n",
      "4  equals  2  *  2\n",
      "5  is a prime number\n",
      "6  equals  2  *  3\n",
      "7  is a prime number\n",
      "8  equals  2  *  4\n",
      "9  equals  3  *  3\n",
      "10  equals  2  *  5\n",
      "11  is a prime number\n",
      "12  equals  2  *  6\n",
      "13  is a prime number\n",
      "14  equals  2  *  7\n",
      "15  equals  3  *  5\n",
      "16  equals  2  *  8\n",
      "17  is a prime number\n",
      "18  equals  2  *  9\n",
      "19  is a prime number\n",
      "20  equals  2  *  10\n",
      "21  equals  3  *  7\n",
      "22  equals  2  *  11\n",
      "23  is a prime number\n",
      "24  equals  2  *  12\n",
      "25  equals  5  *  5\n"
     ]
    }
   ],
   "source": [
    "z=''\n",
    "quot = 0\n",
    "rem = 0\n",
    "for nbr in range(2, 26):\n",
    "    for nbr_divide in range(2,nbr):\n",
    "        quot, rem = divmod(nbr, nbr_divide)\n",
    "        z = 'prime'\n",
    "        if rem == 0:\n",
    "            z = 'not prime'\n",
    "            break\n",
    "    if z == 'not prime':\n",
    "        print(nbr , ' equals ', nbr_divide, ' * ' , quot)\n",
    "    elif z != 'not prime':\n",
    "        print(nbr, ' is a prime number')\n",
    "    else:\n",
    "        print('idk')"
   ]
  },
  {
   "cell_type": "code",
   "execution_count": 16,
   "metadata": {},
   "outputs": [
    {
     "name": "stdout",
     "output_type": "stream",
     "text": [
      "Enter your name: hello\n",
      "You entered hello\n",
      "hh\n",
      "ee\n",
      "ll\n",
      "ll\n",
      "oo\n"
     ]
    }
   ],
   "source": [
    "name = str(input('Enter your name: '))\n",
    "print('You entered', name)\n",
    "for letter in name:\n",
    "    print(letter * 2)"
   ]
  },
  {
   "cell_type": "code",
   "execution_count": 58,
   "metadata": {},
   "outputs": [
    {
     "name": "stdout",
     "output_type": "stream",
     "text": [
      "Enter your String: theotherbrotherdidthis\n",
      "Enter your Stride (>1): 2\n",
      "THeoTHerBRotHErdIDthIS"
     ]
    }
   ],
   "source": [
    "target = str(input('Enter your String: '))\n",
    "stride=int(input('Enter your Stride (>1): '))\n",
    "\n",
    "i=1\n",
    "lower=False\n",
    "for letter in target:\n",
    "    if(lower):\n",
    "        print(letter,end='')\n",
    "    else:\n",
    "        print(letter.upper(),end='')\n",
    "        \n",
    "    if(i == stride):\n",
    "        i=1\n",
    "        if(lower):\n",
    "            lower=False\n",
    "        else:\n",
    "            lower=True\n",
    "        continue\n",
    "    \n",
    "    i=i+1\n",
    "    "
   ]
  },
  {
   "cell_type": "code",
   "execution_count": 57,
   "metadata": {},
   "outputs": [
    {
     "name": "stdout",
     "output_type": "stream",
     "text": [
      "Enter your String1: theotherbrother\n",
      "Enter your String2: brother\n",
      "YES\n"
     ]
    }
   ],
   "source": [
    "s1 = str(input('Enter your String1: '))\n",
    "s2 = str(input('Enter your String2: '))\n",
    "if(s1.endswith(s2) | s2.endswith(s1)):\n",
    "    print(\"YES\")\n",
    "else:\n",
    "    print(\"NO\")"
   ]
  },
  {
   "cell_type": "code",
   "execution_count": 12,
   "metadata": {},
   "outputs": [
    {
     "name": "stdout",
     "output_type": "stream",
     "text": [
      "------------------------------ LIST MENU ------------------------------\n",
      "1. Add to List\n",
      "2. Remove from List by Value\n",
      "3. Remove from List by Index\n",
      "4. Print Lists\n",
      "5. Exit from the script \n",
      "-------------------------------------------------------------------------\n",
      "Enter your Op: 1\n",
      "Which List? (1 or 2):1\n",
      "1\n",
      "Value?: apple\n",
      "L1:  ['apple']\n",
      "L2:  []\n",
      "Enter your Op: 1\n",
      "Which List? (1 or 2):1\n",
      "1\n",
      "Value?: pear\n",
      "L1:  ['apple', 'pear']\n",
      "L2:  []\n",
      "Enter your Op: 3\n",
      "Which List? (1 or 2): 1\n",
      "Index?: 1\n",
      "L1:  ['apple']\n",
      "L2:  []\n",
      "Enter your Op: 5\n"
     ]
    }
   ],
   "source": [
    "l1=[]\n",
    "l2=[]\n",
    "\n",
    "print(30 * \"-\", \"LIST MENU\", 30 * \"-\")\n",
    "print(\"1. Add to List\")\n",
    "print(\"2. Remove from List by Value\")\n",
    "print(\"3. Remove from List by Index\")  \n",
    "print(\"4. Print Lists\")\n",
    "print(\"5. Exit from the script \")\n",
    "print(73 * \"-\")\n",
    "\n",
    "while True:\n",
    "    op=int(input('Enter your Op: '))\n",
    "    if op==1:\n",
    "        t=int(input('Which List? (1 or 2):'))\n",
    "        print(t)\n",
    "        val=str(input('Value?: '))\n",
    "        if t == 1 :\n",
    "            l1.append(val)\n",
    "        else:\n",
    "            l2.append(val)\n",
    "    if op==2:\n",
    "        t=int(input('Which List? (1 or 2): '))\n",
    "        val=str(input('Value?: '))\n",
    "        if t == 1 :\n",
    "            l1.remove(val)\n",
    "        else:\n",
    "            l2.remove(val)\n",
    "    if op==3 :\n",
    "        t=int(input('Which List? (1 or 2): '))\n",
    "        val=int(input('Index?: '))\n",
    "        if t == 1 :\n",
    "            del l1[val]\n",
    "        else:\n",
    "            del l2[val]\n",
    "    if op==4:\n",
    "        t=int(input('Which List? (1 or 2): '))\n",
    "        val=str(input('Value?: '))\n",
    "        if t == 1 :\n",
    "            l1.append(val)\n",
    "        else:\n",
    "            l2.append(val)\n",
    "    if op==5:\n",
    "        break\n",
    "    print(\"L1: \",l1)\n",
    "    print(\"L2: \",l2)\n",
    "\n"
   ]
  },
  {
   "cell_type": "code",
   "execution_count": 17,
   "metadata": {},
   "outputs": [
    {
     "name": "stdout",
     "output_type": "stream",
     "text": [
      "['apple', 'pear', 'grape', 'bannana']\n"
     ]
    }
   ],
   "source": [
    "mylist=[\"apple\",\"apple\",\"pear\",\"apple\",\"grape\",\"pear\",\"bannana\",\"pear\"]\n",
    "newlist=[]\n",
    "for item in mylist:\n",
    "    if item not in newlist:\n",
    "        newlist.append(item)\n",
    "print(newlist)"
   ]
  },
  {
   "cell_type": "code",
   "execution_count": 2,
   "metadata": {},
   "outputs": [
    {
     "name": "stdout",
     "output_type": "stream",
     "text": [
      "[]\n",
      "Enter your String: pear\n",
      "['pear']\n",
      "Enter your String: applle\n",
      "['pear', 'applle']\n",
      "Enter your String: -\n",
      "reverse\n",
      "['applle', 'pear']\n",
      "Enter your String: -applle\n",
      "remove\n",
      "['pear']\n",
      "Enter your String: quit\n"
     ]
    }
   ],
   "source": [
    "mylist=[]\n",
    "\n",
    "while True:\n",
    "    print(mylist)\n",
    "    val=str(input('Enter your String: '))\n",
    "    if val.lower()=='quit':\n",
    "        break\n",
    "    if val == '-':\n",
    "        print(\"reverse\")\n",
    "        mylist=mylist[::-1]\n",
    "        continue\n",
    "    if val.startswith('-'):\n",
    "        print(\"remove\")\n",
    "        mylist.remove(val[1:])\n",
    "        continue\n",
    "    mylist.append(val)\n",
    "    \n"
   ]
  },
  {
   "cell_type": "code",
   "execution_count": 6,
   "metadata": {},
   "outputs": [
    {
     "data": {
      "text/plain": [
       "[['black', 'S', 'Short'],\n",
       " ['black', 'S', 'Long'],\n",
       " ['black', 'M', 'Short'],\n",
       " ['black', 'M', 'Long'],\n",
       " ['black', 'L', 'Short'],\n",
       " ['black', 'L', 'Long'],\n",
       " ['white', 'S', 'Short'],\n",
       " ['white', 'S', 'Long'],\n",
       " ['white', 'M', 'Short'],\n",
       " ['white', 'M', 'Long'],\n",
       " ['white', 'L', 'Short'],\n",
       " ['white', 'L', 'Long']]"
      ]
     },
     "execution_count": 6,
     "metadata": {},
     "output_type": "execute_result"
    }
   ],
   "source": [
    "colors = ['black', 'white']\n",
    "sizes = ['S', 'M', 'L']\n",
    "sleeves=['Short','Long']\n",
    "tshirts = [[color, size, sleeve] for color in colors\n",
    "                         for size in sizes for sleeve in sleeves]\n",
    "\n",
    "tshirts"
   ]
  },
  {
   "cell_type": "code",
   "execution_count": 9,
   "metadata": {},
   "outputs": [
    {
     "data": {
      "text/plain": [
       "[0,\n",
       " 1,\n",
       " 4,\n",
       " 9,\n",
       " 16,\n",
       " 25,\n",
       " 36,\n",
       " 49,\n",
       " 64,\n",
       " 81,\n",
       " 100,\n",
       " 121,\n",
       " 144,\n",
       " 169,\n",
       " 196,\n",
       " 225,\n",
       " 256,\n",
       " 289,\n",
       " 324,\n",
       " 361,\n",
       " 400,\n",
       " 441,\n",
       " 484,\n",
       " 529,\n",
       " 576]"
      ]
     },
     "execution_count": 9,
     "metadata": {},
     "output_type": "execute_result"
    }
   ],
   "source": [
    "newlist = [x**2 for x in range(25)]\n",
    "newlist"
   ]
  },
  {
   "cell_type": "code",
   "execution_count": 20,
   "metadata": {},
   "outputs": [
    {
     "name": "stdout",
     "output_type": "stream",
     "text": [
      "[(4, 'pear'), (5, 'apple'), (5, 'grape'), (7, 'bannana'), (9, 'blueberry')]\n"
     ]
    },
    {
     "data": {
      "text/plain": [
       "['pear', 'apple', 'grape', 'bannana', 'blueberry']"
      ]
     },
     "execution_count": 20,
     "metadata": {},
     "output_type": "execute_result"
    }
   ],
   "source": [
    "mylist=['blueberry','bannana','grape','pear','apple']\n",
    "tuplelist=[(len(word),word)  for word in mylist]\n",
    "tuplelist.sort()\n",
    "print(tuplelist)\n",
    "sortedlist=[item[1] for item in tuplelist]\n",
    "sortedlist"
   ]
  },
  {
   "cell_type": "code",
   "execution_count": 32,
   "metadata": {},
   "outputs": [
    {
     "name": "stdout",
     "output_type": "stream",
     "text": [
      "Enter Roman: mclx\n"
     ]
    },
    {
     "data": {
      "text/plain": [
       "1160"
      ]
     },
     "execution_count": 32,
     "metadata": {},
     "output_type": "execute_result"
    }
   ],
   "source": [
    "res=0\n",
    "rom={'M': 1000, 'D':500, 'C': 100, 'L': 50, 'X': 10, 'V':5, 'I': 1}\n",
    "item=input(\"Enter Roman: \").upper()\n",
    "for n in item:\n",
    "    res=res+rom.get(n)\n",
    "res"
   ]
  },
  {
   "cell_type": "code",
   "execution_count": 38,
   "metadata": {},
   "outputs": [
    {
     "data": {
      "text/plain": [
       "['is', 'no', 'there']"
      ]
     },
     "execution_count": 38,
     "metadata": {},
     "output_type": "execute_result"
    }
   ],
   "source": [
    "i=\"there is no there there\".lower()\n",
    "s=sorted(set(i.split()))\n",
    "s"
   ]
  },
  {
   "cell_type": "code",
   "execution_count": 48,
   "metadata": {},
   "outputs": [
    {
     "name": "stdout",
     "output_type": "stream",
     "text": [
      "Enter your FileName: /tmp/file1.txt\n",
      "['line5\\n', 'line4\\n', 'line3\\n', 'line2\\n', 'line1\\n']\n"
     ]
    }
   ],
   "source": [
    "data=''\n",
    "val=str(input('Enter your FileName: '))\n",
    "f=open(val, 'r')\n",
    "data = f.readlines()\n",
    "f.close()\n",
    "data=data[::-1]\n",
    "with open('/tmp/file2.txt', 'w') as f:\n",
    "    for item in data:\n",
    "        f.write(item)\n",
    "    f.close()\n",
    "    \n",
    "print(\"Done!\")"
   ]
  },
  {
   "cell_type": "code",
   "execution_count": null,
   "metadata": {},
   "outputs": [],
   "source": []
  }
 ],
 "metadata": {
  "kernelspec": {
   "display_name": "Python 3",
   "language": "python",
   "name": "python3"
  }
 },
 "nbformat": 4,
 "nbformat_minor": 4
}
